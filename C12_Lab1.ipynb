{
  "nbformat": 4,
  "nbformat_minor": 0,
  "metadata": {
    "colab": {
      "provenance": [],
      "authorship_tag": "ABX9TyNchPhAEPOtiw0qPjWrABTx",
      "include_colab_link": true
    },
    "kernelspec": {
      "name": "python3",
      "display_name": "Python 3"
    },
    "language_info": {
      "name": "python"
    }
  },
  "cells": [
    {
      "cell_type": "markdown",
      "metadata": {
        "id": "view-in-github",
        "colab_type": "text"
      },
      "source": [
        "<a href=\"https://colab.research.google.com/github/TeoBongcaron/Course-12/blob/main/C12_Lab1.ipynb\" target=\"_parent\"><img src=\"https://colab.research.google.com/assets/colab-badge.svg\" alt=\"Open In Colab\"/></a>"
      ]
    },
    {
      "cell_type": "code",
      "execution_count": 1,
      "metadata": {
        "colab": {
          "base_uri": "https://localhost:8080/",
          "height": 0
        },
        "id": "ypw_X2B_6IkT",
        "outputId": "bb4b95b5-5bf6-4c25-b398-0ab545d85de0"
      },
      "outputs": [
        {
          "output_type": "stream",
          "name": "stdout",
          "text": [
            "Hello, World!\n"
          ]
        }
      ],
      "source": [
        "# 1 & 2. Basic Python Code Example\n",
        "print(\"Hello, World!\")"
      ]
    },
    {
      "cell_type": "code",
      "source": [
        "# 3. Adding a Text Cell: Click on the + Text button."
      ],
      "metadata": {
        "id": "okoqn20u7oca"
      },
      "execution_count": null,
      "outputs": []
    },
    {
      "cell_type": "markdown",
      "source": [
        "# This is a heading\n",
        "## This is a subheading\n",
        "This is **bold** text and this is *italics* text.\n"
      ],
      "metadata": {
        "id": "Q42veXYC7v6i"
      }
    },
    {
      "cell_type": "code",
      "source": [
        "# Advanced Features in Google Colab\n",
        "# Using GPU in Colab\n",
        "\n",
        "import tensorflow as tf\n",
        "print(\"Num GPUs Available: \", len(tf.config.experimental.list_physical_devices('GPU')))"
      ],
      "metadata": {
        "colab": {
          "base_uri": "https://localhost:8080/",
          "height": 0
        },
        "id": "TfPh64L279AF",
        "outputId": "e967d1d1-b28d-4c20-8762-f2e07efbb454"
      },
      "execution_count": 2,
      "outputs": [
        {
          "output_type": "stream",
          "name": "stdout",
          "text": [
            "Num GPUs Available:  0\n"
          ]
        }
      ]
    },
    {
      "cell_type": "code",
      "source": [
        "# Mounting Google Drive\n",
        "from google.colab import drive\n",
        "drive.mount('/content/drive')"
      ],
      "metadata": {
        "colab": {
          "base_uri": "https://localhost:8080/",
          "height": 0
        },
        "id": "o9w4LVAu8otW",
        "outputId": "0f3032b0-7f4a-4263-bb21-d16c37eda53f"
      },
      "execution_count": 4,
      "outputs": [
        {
          "output_type": "stream",
          "name": "stdout",
          "text": [
            "Mounted at /content/drive\n"
          ]
        }
      ]
    },
    {
      "cell_type": "code",
      "source": [
        "# Installing LIbraries\n",
        "!pip install numpy"
      ],
      "metadata": {
        "colab": {
          "base_uri": "https://localhost:8080/",
          "height": 0
        },
        "id": "Socvy20I89pU",
        "outputId": "4b72a317-de2f-44a0-fcb7-d6e0f0d4b4f9"
      },
      "execution_count": 5,
      "outputs": [
        {
          "output_type": "stream",
          "name": "stdout",
          "text": [
            "Requirement already satisfied: numpy in /usr/local/lib/python3.12/dist-packages (2.0.2)\n"
          ]
        }
      ]
    },
    {
      "cell_type": "code",
      "source": [
        "# Magic Commands (Special commands prefixed by % or %% that provide enhanced functionality.)\n",
        "%timeit x = [i for i in range(1000)]"
      ],
      "metadata": {
        "colab": {
          "base_uri": "https://localhost:8080/",
          "height": 0
        },
        "id": "ZbVgx6Wt93Vw",
        "outputId": "3a936bf9-9cb7-49b5-f7ce-b3791c9f32e0"
      },
      "execution_count": 6,
      "outputs": [
        {
          "output_type": "stream",
          "name": "stdout",
          "text": [
            "37.4 µs ± 10.3 µs per loop (mean ± std. dev. of 7 runs, 10000 loops each)\n"
          ]
        }
      ]
    },
    {
      "cell_type": "code",
      "source": [
        "# Graphics and Tables\n",
        "# Graphics: Use Matplotlib or Seaborn for visualisations\n",
        "# Tables: Use Pandas to create and display tables\n",
        "\n",
        "import pandas as pd\n",
        "import seaborn as sns\n",
        "import matplotlib.pyplot as plt\n",
        "\n",
        "# Sample dataframe\n",
        "Data = {'Name' : ['Alice', 'Bob', 'Charlie', 'David'],\n",
        " 'Age' : [24,27,22,32]}\n",
        "\n",
        "df = pd.DataFrame(Data)\n",
        "\n",
        "# Display Table\n",
        "print(df)\n",
        "\n",
        "# Plotting\n",
        "sns.barplot(x='Name', y='Age', data=df)\n",
        "plt.show()"
      ],
      "metadata": {
        "colab": {
          "base_uri": "https://localhost:8080/",
          "height": 536
        },
        "id": "t-DE_v34-E1_",
        "outputId": "561058d1-4382-48f3-de86-65bd2f80cf60"
      },
      "execution_count": 9,
      "outputs": [
        {
          "output_type": "stream",
          "name": "stdout",
          "text": [
            "      Name  Age\n",
            "0    Alice   24\n",
            "1      Bob   27\n",
            "2  Charlie   22\n",
            "3    David   32\n"
          ]
        },
        {
          "output_type": "display_data",
          "data": {
            "text/plain": [
              "<Figure size 640x480 with 1 Axes>"
            ],
            "image/png": "[encoded data removed]"
          },
          "metadata": {}
        }
      ]
    },
    {
      "cell_type": "code",
      "source": [],
      "metadata": {
        "id": "ByQcFRU0-b9p"
      },
      "execution_count": null,
      "outputs": []
    }
  ]
}